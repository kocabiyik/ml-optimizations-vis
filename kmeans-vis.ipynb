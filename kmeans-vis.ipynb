{
 "cells": [
  {
   "cell_type": "code",
   "execution_count": 593,
   "metadata": {},
   "outputs": [],
   "source": [
    "import random\n",
    "import os\n",
    "import numpy as np\n",
    "import matplotlib.pyplot as plt"
   ]
  },
  {
   "cell_type": "code",
   "execution_count": 594,
   "metadata": {},
   "outputs": [],
   "source": [
    "num_cluster = 10\n",
    "num_data_points = 1000\n",
    "dimension = 3"
   ]
  },
  {
   "cell_type": "markdown",
   "metadata": {},
   "source": [
    "# Generate Random Centroids"
   ]
  },
  {
   "cell_type": "code",
   "execution_count": 595,
   "metadata": {},
   "outputs": [],
   "source": [
    "data_points = np.random.rand(num_data_points*dimension).reshape(num_data_points, dimension)"
   ]
  },
  {
   "cell_type": "code",
   "execution_count": 596,
   "metadata": {},
   "outputs": [
    {
     "data": {
      "text/plain": [
       "<matplotlib.collections.PathCollection at 0x115362890>"
      ]
     },
     "execution_count": 596,
     "metadata": {},
     "output_type": "execute_result"
    },
    {
     "data": {
      "image/png": "[encoded data removed]",
      "text/plain": [
       "<Figure size 432x288 with 1 Axes>"
      ]
     },
     "metadata": {
      "needs_background": "light"
     },
     "output_type": "display_data"
    }
   ],
   "source": [
    "plt.scatter(data_points[:,0], data_points[:,1], s=1)"
   ]
  },
  {
   "cell_type": "code",
   "execution_count": 597,
   "metadata": {},
   "outputs": [
    {
     "data": {
      "text/plain": [
       "array([[0.45607633, 0.88737259, 0.32954504],\n",
       "       [0.52771294, 0.48079314, 0.88096498],\n",
       "       [0.89294173, 0.32868875, 0.59348989],\n",
       "       [0.30147632, 0.94292122, 0.10787607],\n",
       "       [0.16450134, 0.91618374, 0.9769367 ],\n",
       "       [0.58154246, 0.4592502 , 0.1109824 ],\n",
       "       [0.10689917, 0.0246275 , 0.73031525],\n",
       "       [0.50396382, 0.23310503, 0.56990635],\n",
       "       [0.69074814, 0.80662644, 0.79687949],\n",
       "       [0.29079558, 0.356781  , 0.59295062]])"
      ]
     },
     "execution_count": 597,
     "metadata": {},
     "output_type": "execute_result"
    }
   ],
   "source": [
    "idx = np.random.randint(num_data_points, size=num_cluster)\n",
    "centroids = data_points[idx,:]\n",
    "centroids"
   ]
  },
  {
   "cell_type": "code",
   "execution_count": 598,
   "metadata": {},
   "outputs": [],
   "source": [
    "def find_closest_centroids(data_points, centroids):\n",
    "    '''\n",
    "    Args:\n",
    "    data_points: A numpy array with shape: (num_data_points, num_dimensions)\n",
    "    centroids: A numpy array with shape: (num_cluster, num_dimensions)\n",
    "    \n",
    "    Returns:\n",
    "    A list with cluster numbers\n",
    "    '''\n",
    "    \n",
    "    num_data_points=data_points.shape[0]\n",
    "    num_dimensions=data_points.shape[1]\n",
    "    num_centroids=centroids.shape[0]\n",
    "    centroid_numbers = [0] * num_data_points\n",
    "    \n",
    "    for dp in range(num_data_points):\n",
    "        \n",
    "        # get one data point\n",
    "        one_dp = data_points[dp,]\n",
    "        \n",
    "        # loop over all the centroids and keep the closest one\n",
    "        for c in range(num_centroids):\n",
    "            \n",
    "            # get one centroid\n",
    "            one_c = centroids[c,]\n",
    "            \n",
    "            # calculate euclidian distance\n",
    "            if num_dimensions==2:\n",
    "                dist = np.sqrt(np.sum((one_dp-one_c)**2))\n",
    "            elif num_dimensions==3:\n",
    "                dist = np.cbrt(np.sum((one_dp-one_c)**2))\n",
    "            else:\n",
    "                # this won't be useful for visualization\n",
    "                dist = np.sum((one_dp-one_c)**num_dimensions)**(1/num_dimensions)\n",
    "            \n",
    "            # keep the shortest distance\n",
    "            if c==0:\n",
    "                dist_cache=dist\n",
    "                centroid_numbers[dp]=0\n",
    "                \n",
    "            if dist<dist_cache:\n",
    "                dist_cache=dist\n",
    "                centroid_numbers[dp]=c\n",
    "                \n",
    "        del dist_cache\n",
    "    return(centroid_numbers)"
   ]
  },
  {
   "cell_type": "code",
   "execution_count": 599,
   "metadata": {},
   "outputs": [],
   "source": [
    "def move_centroids(data_points, centroid_nums):\n",
    "    \n",
    "    '''\n",
    "    Args:\n",
    "    data_points: A numpy array with shape: (num_data_points, num_dimensions)\n",
    "    centroid_nums: A list of integers showing the cluster numbers\n",
    "    \n",
    "    Returns:\n",
    "    A numpy array with updated cluster centers\n",
    "\n",
    "    '''\n",
    "    centroid_numbers = find_closest_centroids(data_points, centroids)\n",
    "    num_centroids = centroids.shape[0]\n",
    "    num_dimension=data_points.shape[1]\n",
    "    num_data_points=data_points.shape[0]\n",
    "    \n",
    "    updated_centroids = np.zeros([num_centroids, num_dimension])\n",
    "    \n",
    "    for c in range(num_centroids):\n",
    "        bool_index = [i==c for i in centroid_numbers]\n",
    "        points_in_cluster_c = data_points[bool_index]\n",
    "        np.array(points_in_cluster_c)\n",
    "        updated_centroids[c,:] = np.mean(points_in_cluster_c, axis=0)\n",
    "    return(updated_centroids)"
   ]
  },
  {
   "cell_type": "markdown",
   "metadata": {},
   "source": [
    "## Running the Algorithm"
   ]
  },
  {
   "cell_type": "code",
   "execution_count": 600,
   "metadata": {},
   "outputs": [],
   "source": [
    "num_iteration = 20"
   ]
  },
  {
   "cell_type": "code",
   "execution_count": 601,
   "metadata": {},
   "outputs": [],
   "source": [
    "for i in range(num_iteration):\n",
    "    clusters = find_closest_centroids(data_points, centroids)\n",
    "    centroids = move_centroids(data_points, clusters)"
   ]
  },
  {
   "cell_type": "code",
   "execution_count": null,
   "metadata": {},
   "outputs": [],
   "source": []
  }
 ],
 "metadata": {
  "kernelspec": {
   "display_name": "Python 3",
   "language": "python",
   "name": "python3"
  },
  "language_info": {
   "codemirror_mode": {
    "name": "ipython",
    "version": 3
   },
   "file_extension": ".py",
   "mimetype": "text/x-python",
   "name": "python",
   "nbconvert_exporter": "python",
   "pygments_lexer": "ipython3",
   "version": "3.7.6"
  }
 },
 "nbformat": 4,
 "nbformat_minor": 4
}
